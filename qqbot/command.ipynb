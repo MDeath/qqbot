{
 "cells": [
  {
   "cell_type": "code",
   "execution_count": null,
   "metadata": {},
   "outputs": [],
   "source": [
    "import random, soup, time, json, requests, os\n",
    "from common import StartDaemonThread,DotDict,b64decode,b64encode\n",
    "from qqbotcls import bot"
   ]
  },
  {
   "cell_type": "code",
   "execution_count": null,
   "metadata": {},
   "outputs": [],
   "source": [
    "bot.Init()"
   ]
  },
  {
   "cell_type": "code",
   "execution_count": null,
   "metadata": {},
   "outputs": [],
   "source": [
    "host: str = 'bot'\n",
    "port: int = 8188\n",
    "\n",
    "import socket\n",
    "def command(req):\n",
    "    sock = socket.socket(socket.AF_INET, socket.SOCK_STREAM)\n",
    "    resp = b''\n",
    "    try:\n",
    "        sock.connect((host, int(port)))\n",
    "        sock.sendall(req.encode('utf-8'))\n",
    "        while True:\n",
    "            data = sock.recv(4096)\n",
    "            if not data:\n",
    "                break\n",
    "            else:\n",
    "                resp += data\n",
    "    except socket.error:\n",
    "        pass\n",
    "    else:\n",
    "        resp = resp.decode('utf-8')\n",
    "        if not resp:\n",
    "            print('无法连接 QQBot-Term 服务器')\n",
    "        elif not resp.strip():\n",
    "            print('QQBot 命令格式错误')\n",
    "        else:\n",
    "            print(resp.strip())\n",
    "            return resp.strip()\n",
    "    finally:\n",
    "        sock.close()"
   ]
  },
  {
   "cell_type": "code",
   "execution_count": null,
   "metadata": {
    "scrolled": true
   },
   "outputs": [],
   "source": [
    "rep = command(r\"\"\"\n",
    "restart\n",
    "\"\"\")"
   ]
  },
  {
   "cell_type": "code",
   "execution_count": null,
   "metadata": {},
   "outputs": [],
   "source": [
    "rep = command(r\"\"\"\n",
    "plug pixiv\n",
    "\"\"\")"
   ]
  },
  {
   "cell_type": "code",
   "execution_count": null,
   "metadata": {},
   "outputs": [],
   "source": [
    "rep = command(r\"\"\"\n",
    "bot.plugins.pixiv.day_r18_ranking(bot,qq,'friend')\n",
    "\"\"\")"
   ]
  },
  {
   "cell_type": "code",
   "execution_count": null,
   "metadata": {},
   "outputs": [],
   "source": [
    "rep = command(r\"\"\"\n",
    "bot.plugins.pixiv.illust_follow(bot,'2023-04-26')\n",
    "\"\"\")"
   ]
  },
  {
   "cell_type": "code",
   "execution_count": null,
   "metadata": {},
   "outputs": [],
   "source": [
    "rep = command(r\"\"\"\n",
    "bot.MessageId(qq,1484578).data\n",
    "\"\"\")"
   ]
  },
  {
   "cell_type": "code",
   "execution_count": null,
   "metadata": {},
   "outputs": [],
   "source": [
    "rep = command(r\"\"\"\n",
    "bot.MessageAnalyst(bot.MessageId(qq,1484578).data)\n",
    "\"\"\")"
   ]
  },
  {
   "cell_type": "code",
   "execution_count": null,
   "metadata": {},
   "outputs": [],
   "source": [
    "rep = command(r\"\"\"\n",
    "bot.SendMessage('group',gp,{'type': 'Forward', 'display': None, 'nodeList': [{'senderId': qq, 'time': 1699685038, 'senderName': 'QQ用户', 'messageChain': [], 'messageId': None, 'messageRef': None}, {'senderId': qq, 'time': 1699685150, 'senderName': 'QQ用户', 'messageChain': [{'type': 'Plain', 'text': '群友是有哪里对不起你了吗'}], 'messageId': None, 'messageRef': None}, {'senderId': qq, 'time': 1699685715, 'senderName': 'QQ用户', 'messageChain': [{'type': 'Plain', 'text': '群友是有哪里对不起你了吗'}], 'messageId': None, 'messageRef': None}, {'senderId': qq, 'time': 1699685794, 'senderName': 'QQ用户', 'messageChain': [{'type': 'Plain', 'text': '群友是有哪里对不起你了吗'}], 'messageId': None, 'messageRef': None}]})\n",
    "\"\"\")"
   ]
  },
  {
   "cell_type": "code",
   "execution_count": null,
   "metadata": {},
   "outputs": [],
   "source": [
    "rep = command(r\"\"\"\n",
    "[[__import__('qqbotcls').bot.SendMessage('group',g.id,soup.Plain([\"如果你遇到新版NT内核新特性导致图片收不到的问题，建议尝试使用旧版发送。\",\"由于新版NT内核的新特性，有时图片可能收不到，这时可以考虑使用旧版进行发送。\",\"鉴于新版NT内核的某些新特性，图片接收可能出现问题，因此建议使用旧版进行发送。\",\"近期，新版NT内核的新特性导致部分用户图片收不到，建议暂时切换回旧版发送。\",\"新版NT内核虽然带来了新特性，但也存在图片收不到的问题，此时可尝试使用旧版发送。\",\"如果你因为新版NT内核的新特性而遇到图片收不到的情况，不妨试试使用旧版发送。\",\"新版NT内核的新特性有时会导致图片接收失败，此时使用旧版发送或许是个不错的选择。\",\"由于新版NT内核的新特性影响，图片可能无法正常接收，建议暂时使用旧版进行发送。\",\"针对新版NT内核新特性导致的图片收不到问题，一个有效的解决方案是使用旧版发送。\",\"在遇到新版NT内核新特性引发的图片接收问题时，使用旧版发送功能或许能够帮助你解决问题。\"][random.randint(1,9)])),time.sleep(random.randint(60,300))] for g in __import__('qqbotcls').bot.Group]\n",
    "\"\"\")"
   ]
  },
  {
   "cell_type": "code",
   "execution_count": null,
   "metadata": {},
   "outputs": [],
   "source": [
    "rep = command(r\"\"\"\n",
    "__import__('os').popen('taskkill /f /im java.exe').read()\n",
    "\"\"\")"
   ]
  },
  {
   "cell_type": "code",
   "execution_count": null,
   "metadata": {
    "scrolled": true
   },
   "outputs": [],
   "source": [
    "rep = command(r\"\"\"\n",
    "bot.plugins.pixiv.illust_msg(bot.pixiv.illust_detail(pid).illust,False)\n",
    "\"\"\")"
   ]
  },
  {
   "cell_type": "code",
   "execution_count": null,
   "metadata": {
    "scrolled": true
   },
   "outputs": [],
   "source": [
    "rep = command(r\"\"\"\n",
    "[bot.plugins.pixiv.illusts_node(bot.pixiv.illust_ranking().illusts,True,0)]\n",
    "\"\"\")"
   ]
  },
  {
   "cell_type": "code",
   "execution_count": null,
   "metadata": {},
   "outputs": [],
   "source": [
    "rep = command(r\"\"\"\n",
    "bot.pixiv.illust_detail(pid)\n",
    "\"\"\")\n",
    "eval(rep)"
   ]
  },
  {
   "cell_type": "code",
   "execution_count": null,
   "metadata": {},
   "outputs": [],
   "source": [
    "rep = command(r\"\"\"\n",
    "bot.pixiv.user_detail(uid)\n",
    "\"\"\")\n",
    "rep = eval(rep)\n",
    "rep"
   ]
  },
  {
   "cell_type": "code",
   "execution_count": null,
   "metadata": {},
   "outputs": [],
   "source": [
    "rep = command(r\"\"\"\n",
    "[frame.delay for frame in bot.pixiv.ugoira_metadata(106569335).ugoira_metadata.frames]\n",
    "\"\"\")\n",
    "delay = eval(rep)\n",
    "delay"
   ]
  },
  {
   "cell_type": "code",
   "execution_count": null,
   "metadata": {},
   "outputs": [],
   "source": [
    "for g in bot.List('group')[1]:\n",
    "    bot.SendMessage(\n",
    "        'group',\n",
    "        g.id,\n",
    "        soup.Plain('''新增 chatgpt 模块说明\\n-=# chatgpt 模块 #=-\\nonQQMessage\\n    AI模块对话模块使用 @ 开头 或 @Bot''')\n",
    "    )\n",
    "    # time.sleep(random.randint(20,40))"
   ]
  },
  {
   "cell_type": "code",
   "execution_count": null,
   "metadata": {},
   "outputs": [],
   "source": [
    "for f in bot.List('friend')[1]:\n",
    "    bot.SendMessage(\n",
    "        'friend',\n",
    "        f.id,\n",
    "        soup.Plain('''新增 chatgpt 模块说明\\n-=# chatgpt 模块 #=-\\nonQQMessage\\n    AI模块对话模块使用 @ 开头 或 @Bot''')\n",
    "    )\n",
    "    time.sleep(random.randint(30,60))"
   ]
  },
  {
   "cell_type": "code",
   "execution_count": null,
   "metadata": {
    "scrolled": true
   },
   "outputs": [],
   "source": [
    "for root, dirs, files in os.walk('.\\\\temp'):\n",
    "    for p in dirs+files:\n",
    "        print(os.path.join(root,p))"
   ]
  }
 ],
 "metadata": {
  "kernelspec": {
   "display_name": "Python 3 (ipykernel)",
   "language": "python",
   "name": "python3"
  },
  "language_info": {
   "codemirror_mode": {
    "name": "ipython",
    "version": 3
   },
   "file_extension": ".py",
   "mimetype": "text/x-python",
   "name": "python",
   "nbconvert_exporter": "python",
   "pygments_lexer": "ipython3",
   "version": "3.11.7"
  },
  "vscode": {
   "interpreter": {
    "hash": "21b8decb48dd3f3750d114ad4805a8afa0418a1c42adfa11e421c380f14aa1a0"
   }
  }
 },
 "nbformat": 4,
 "nbformat_minor": 4
}
