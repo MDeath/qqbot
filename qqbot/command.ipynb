{
 "cells": [
  {
   "cell_type": "code",
   "execution_count": null,
   "metadata": {},
   "outputs": [],
   "source": [
    "import soup, time\n",
    "from common import JsonDict,StartDaemonThread,JsonDumps,JsonLoads"
   ]
  },
  {
   "cell_type": "code",
   "execution_count": null,
   "metadata": {},
   "outputs": [],
   "source": [
    "qq = \n",
    "verifyKey = \n",
    "host: str = 'localhost'\n",
    "port: int = 8080\n",
    "session = None\n",
    "\n",
    "from miraiapi import MiraiApi\n",
    "bot = MiraiApi(qq, verifyKey, host, port, session)\n",
    "\n",
    "host: str = 'localhost'\n",
    "port: int = 8188\n",
    "\n",
    "import socket\n",
    "\n",
    "def command(req):\n",
    "    sock = socket.socket(socket.AF_INET, socket.SOCK_STREAM)\n",
    "    resp = b''\n",
    "    try:\n",
    "        sock.connect((host, int(port)))\n",
    "        sock.sendall(req.encode('utf-8'))\n",
    "        while True:\n",
    "                data = sock.recv(8096)\n",
    "                if not data:\n",
    "                    break\n",
    "                else:\n",
    "                    resp += data\n",
    "    except socket.error:\n",
    "        pass\n",
    "    else:\n",
    "        resp = resp.decode('utf-8')\n",
    "        if not resp:\n",
    "            print('无法连接 QQBot-Term 服务器')\n",
    "        elif not resp.strip():\n",
    "            print('QQBot 命令格式错误')\n",
    "        else:\n",
    "            print(resp.strip())\n",
    "            return resp.strip()\n",
    "    finally:\n",
    "        sock.close()"
   ]
  },
  {
   "cell_type": "code",
   "execution_count": null,
   "metadata": {},
   "outputs": [],
   "source": [
    "rep = command(r\"\"\"\n",
    "dir(bot)\n",
    "\"\"\")"
   ]
  },
  {
   "cell_type": "code",
   "execution_count": null,
   "metadata": {},
   "outputs": [],
   "source": [
    "dir(bot)"
   ]
  },
  {
   "cell_type": "code",
   "execution_count": null,
   "metadata": {},
   "outputs": [],
   "source": [
    "print(JsonDumps(eval(rep),ensure_ascii=False,indent=4)) # 格式JSON"
   ]
  }
 ],
 "metadata": {
  "kernelspec": {
   "display_name": "Python 3.10.7 64-bit",
   "language": "python",
   "name": "python3"
  },
  "language_info": {
   "codemirror_mode": {
    "name": "ipython",
    "version": 3
   },
   "file_extension": ".py",
   "mimetype": "text/x-python",
   "name": "python",
   "nbconvert_exporter": "python",
   "pygments_lexer": "ipython3",
   "version": "3.10.7"
  },
  "orig_nbformat": 4,
  "vscode": {
   "interpreter": {
    "hash": "21b8decb48dd3f3750d114ad4805a8afa0418a1c42adfa11e421c380f14aa1a0"
   }
  }
 },
 "nbformat": 4,
 "nbformat_minor": 2
}
