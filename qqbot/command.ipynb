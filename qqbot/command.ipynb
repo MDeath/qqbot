{
 "cells": [
  {
   "cell_type": "code",
   "execution_count": null,
   "metadata": {},
   "outputs": [],
   "source": [
    "import random, soup, time, json, requests, os\n",
    "from common import StartDaemonThread,DotDict,b64dec,b64enc\n",
    "from qqbotcls import bot"
   ]
  },
  {
   "cell_type": "code",
   "execution_count": null,
   "metadata": {},
   "outputs": [],
   "source": [
    "bot.Init()"
   ]
  },
  {
   "cell_type": "code",
   "execution_count": null,
   "metadata": {},
   "outputs": [],
   "source": [
    "host: str = 'bot'\n",
    "port: int = 8188\n",
    "\n",
    "import socket\n",
    "def command(req):\n",
    "    sock = socket.socket(socket.AF_INET, socket.SOCK_STREAM)\n",
    "    resp = b''\n",
    "    try:\n",
    "        sock.connect((host, int(port)))\n",
    "        sock.sendall(req.encode('utf-8'))\n",
    "        while True:\n",
    "            data = sock.recv(4096)\n",
    "            if not data:\n",
    "                break\n",
    "            else:\n",
    "                resp += data\n",
    "    except socket.error:\n",
    "        pass\n",
    "    else:\n",
    "        resp = resp.decode('utf-8')\n",
    "        if not resp:\n",
    "            print('无法连接 QQBot-Term 服务器')\n",
    "        elif not resp.strip():\n",
    "            print('QQBot 命令格式错误')\n",
    "        else:\n",
    "            print(resp.strip())\n",
    "            return resp.strip()\n",
    "    finally:\n",
    "        sock.close()"
   ]
  },
  {
   "cell_type": "code",
   "execution_count": null,
   "metadata": {
    "scrolled": true
   },
   "outputs": [],
   "source": [
    "rep = command(r\"\"\"\n",
    "restart\n",
    "\"\"\")"
   ]
  },
  {
   "cell_type": "code",
   "execution_count": null,
   "metadata": {},
   "outputs": [],
   "source": [
    "rep = command(r\"\"\"\n",
    "bot.plugins.pixiv.ranking(bot, mode='day_r18',title=f'Pixiv {time.strftime(\"%Y-%m-%d\", time.localtime(time.time()-86400))} R-18榜单')\n",
    "\"\"\")"
   ]
  },
  {
   "cell_type": "code",
   "execution_count": null,
   "metadata": {},
   "outputs": [],
   "source": [
    "rep = command(r\"\"\"\n",
    "bot.plugins.pixiv.illust_follow(bot)\n",
    "\"\"\")"
   ]
  },
  {
   "cell_type": "code",
   "execution_count": null,
   "metadata": {},
   "outputs": [],
   "source": [
    "rep = command(r\"\"\"\n",
    "bot.MessageId(1064393873,22290).data\n",
    "\"\"\")"
   ]
  },
  {
   "cell_type": "code",
   "execution_count": null,
   "metadata": {},
   "outputs": [],
   "source": [
    "rep = command(r\"\"\"\n",
    "bot.MessageAnalyst(bot.MessageId(778445670,79405).data)\n",
    "\"\"\")"
   ]
  },
  {
   "cell_type": "code",
   "execution_count": null,
   "metadata": {},
   "outputs": [],
   "source": [
    "rep = command(r\"\"\"\n",
    "bot.SendMessage('friend',1064393873,{'type': 'Forward', 'nodeList': [{'senderId': 1064393873, 'senderName': '受、死', 'messageChain': [{'type': 'Image', 'url': 'http://c2cpicdw.qpic.cn/offpic_new/2907237958//2907237958-144146043-AFABAB40F9F410C9D42F4B6D2C34FE75/0?term=2&is_origin=1'}, {'type': 'Plain', 'text': '\\n识别结果：'}], 'time': 1715179143}, {'senderId': 1064393873, 'senderName': '受、死', 'messageChain': [{'type': 'Image', 'url': 'https://ascii2d.net/thumbnail/b/2/8/4/b28455217a91dd3775ad8fc07c31734f.jpg'}, {'type': 'Plain', 'text': '\\n色相搜索：\\n标题：暗闇が．．．'}, {'type': 'Plain', 'text': '\\n暗闇が．．．：\\nhttps://www。pixiv。net/artworks/22767530\\nmis：\\nhttps://www。pixiv。net/users/2769923'}], 'time': 1715179152}, {'senderId': 1064393873, 'senderName': '受、死', 'messageChain': [{'type': 'Image', 'url': 'https://ascii2d.net/thumbnail/4/4/7/e/447e036b0aac990dc246f4c1a72acd82.jpg'}, {'type': 'Plain', 'text': '\\n特征搜索：\\n标题：【講座】クオリティの高いコピー本制作のいろは'}, {'type': 'Plain', 'text': '\\n【講座】クオリティの高いコピー本制作のいろは：\\nhttps://www。pixiv。net/artworks/24704630\\n文月かずや@ふづきゅん：\\nhttps://www。pixiv。net/users/231740'}], 'time': 1715179152}, {'senderId': 1064393873, 'senderName': '受、死', 'messageChain': [{'type': 'Image', 'url': 'https://img3.saucenao.com/ehentai/e0/af/e0afca4b45c7eced365936923ffd36639c873404.jpg?auth=I41e7LejT4YskZboFGWjXw&exp=1715713200'}, {'type': 'Plain', 'text': '\\n相似度：53.05\\n标题：[Saeki Takao] Crimzon Last\\n作者：saeki takao\\nCrimzon Last'}], 'time': 1715179147}, {'senderId': 1064393873, 'senderName': '受、死', 'messageChain': [{'type': 'Image', 'url': 'https://img1.saucenao.com/res/pixiv/9234/manga/92345753_p30.jpg?auth=QPM5-O24YH8h1_-X73NUng&exp=1715713200'}, {'type': 'Plain', 'text': '\\n相似度：52.69\\n标题：Loveliness【WEB再録】\\n作者：ｶｶｵｶﾞｰﾅ\\nhttps://www。pixiv。net/member_illust.php?mode=medium&illust_id=92345753'}], 'time': 1715179147}, {'senderId': 1064393873, 'senderName': '受、死', 'messageChain': [{'type': 'Image', 'url': 'https://img3.saucenao.com/mangadex2/c7/3e/c73e9cb3fb0cfac37aa60b7795c9f41b/12.jpg?auth=8wfkeBaTqiPwwlZFmgRHEw&exp=1715713200'}, {'type': 'Plain', 'text': '\\n相似度：52.28\\n标题：Ouchi ni Kaerou\\n作者：Kasumi Yuuko\\nOuchi ni Kaerou\\nhttps://mangadex。org/chapter/d67b69d3-181d-4200-90dc-4b44b90769aa/\\nhttps://www。mangaupdates。com/series.html?id=179549\\nhttps://myanimelist。net/manga/144094/'}], 'time': 1715179147}, {'senderId': 1064393873, 'senderName': '受、死', 'messageChain': [{'type': 'Image', 'url': 'https://img1.saucenao.com/res/nhentai/58178%20%28340554%29%20--%20%5BAnthology%5D%20COMIC%20Hime%20Hyakka%203/139.jpg?auth=oaQIc1ojfVSXmWDJL3eUBw&exp=1715713200'}, {'type': 'Plain', 'text': '\\n相似度：52.11\\n标题：[Anthology] COMIC Hime Hyakka 3\\n作者：Unknown\\nCOMIC Hime Hyakka 3'}], 'time': 1715179147}, {'senderId': 1064393873, 'senderName': '受、死', 'messageChain': [{'type': 'Image', 'url': 'https://img1.saucenao.com/res/pixiv/4024/manga/40240085_p2.jpg?auth=8IBXNvEn2BtzdlcE0tb2wA&exp=1715713200'}, {'type': 'Plain', 'text': '\\n相似度：51.56\\n标题：東方凡々日和～終わりの神と終わらない人の話～\\n作者：MaZ\\nhttps://www。pixiv。net/member_illust.php?mode=medium&illust_id=40240085'}], 'time': 1715179147}, {'senderId': 1064393873, 'senderName': '受、死', 'messageChain': [{'type': 'Image', 'url': 'https://img1.saucenao.com/res/pixiv/5864/manga/58642904_p1.jpg?auth=VPgEoW88s9s5WvP7N1CtpQ&exp=1715713200'}, {'type': 'Plain', 'text': '\\n相似度：51.24\\n标题：トプステ新刊通販のおしらせ＋無配まんが\\n作者：午後野ちゃこ\\nhttps://www。pixiv。net/member_illust.php?mode=medium&illust_id=58642904'}], 'time': 1715179147}], 'display': {'preview': ['⚠️匹配度较低，可能被裁切、拼接，或是AI作图⚠️'], 'summary': '查看8条查询结果'}})\n",
    "\"\"\")"
   ]
  },
  {
   "cell_type": "code",
   "execution_count": null,
   "metadata": {},
   "outputs": [],
   "source": [
    "rep = command(r\"\"\"\n",
    "[[__import__('qqbotcls').bot.SendMessage('group',g.id,soup.Plain([\"如果你遇到新版NT内核新特性导致图片收不到的问题，建议尝试使用旧版发送。\",\"由于新版NT内核的新特性，有时图片可能收不到，这时可以考虑使用旧版进行发送。\",\"鉴于新版NT内核的某些新特性，图片接收可能出现问题，因此建议使用旧版进行发送。\",\"近期，新版NT内核的新特性导致部分用户图片收不到，建议暂时切换回旧版发送。\",\"新版NT内核虽然带来了新特性，但也存在图片收不到的问题，此时可尝试使用旧版发送。\",\"如果你因为新版NT内核的新特性而遇到图片收不到的情况，不妨试试使用旧版发送。\",\"新版NT内核的新特性有时会导致图片接收失败，此时使用旧版发送或许是个不错的选择。\",\"由于新版NT内核的新特性影响，图片可能无法正常接收，建议暂时使用旧版进行发送。\",\"针对新版NT内核新特性导致的图片收不到问题，一个有效的解决方案是使用旧版发送。\",\"在遇到新版NT内核新特性引发的图片接收问题时，使用旧版发送功能或许能够帮助你解决问题。\"][random.randint(1,9)])),time.sleep(random.randint(60,300))] for g in __import__('qqbotcls').bot.Group]\n",
    "\"\"\")"
   ]
  },
  {
   "cell_type": "code",
   "execution_count": null,
   "metadata": {},
   "outputs": [],
   "source": [
    "rep = command(r\"\"\"\n",
    "__import__('os').popen('taskkill /f /im java.exe').read()\n",
    "\"\"\")"
   ]
  },
  {
   "cell_type": "code",
   "execution_count": null,
   "metadata": {
    "scrolled": true
   },
   "outputs": [],
   "source": [
    "rep = command(r\"\"\"\n",
    "bot.plugins.pixiv.illust_msg(bot.pixiv.illust_detail(110964957).illust,False)\n",
    "\"\"\")"
   ]
  },
  {
   "cell_type": "code",
   "execution_count": null,
   "metadata": {
    "collapsed": true,
    "jupyter": {
     "outputs_hidden": true
    },
    "scrolled": true
   },
   "outputs": [],
   "source": [
    "rep = command(r\"\"\"\n",
    "[bot.plugins.pixiv.illusts_node(bot.pixiv.illust_ranking().illusts,True,0)]\n",
    "\"\"\")"
   ]
  },
  {
   "cell_type": "code",
   "execution_count": null,
   "metadata": {
    "scrolled": true
   },
   "outputs": [],
   "source": [
    "rep = command(r\"\"\"\n",
    "bot.pixiv.illust_detail(83980936).illust\n",
    "\"\"\")\n",
    "eval(rep)"
   ]
  },
  {
   "cell_type": "code",
   "execution_count": null,
   "metadata": {},
   "outputs": [],
   "source": [
    "rep = command(r\"\"\"\n",
    "bot.pixiv.user_detail(60693818)\n",
    "\"\"\")\n",
    "rep = eval(rep)\n",
    "rep"
   ]
  },
  {
   "cell_type": "code",
   "execution_count": null,
   "metadata": {
    "scrolled": true
   },
   "outputs": [],
   "source": [
    "rep = command(r\"\"\"\n",
    "bot.pixiv.user_illusts(60693818)\n",
    "\"\"\")\n",
    "rep = eval(rep)\n",
    "rep"
   ]
  },
  {
   "cell_type": "code",
   "execution_count": null,
   "metadata": {},
   "outputs": [],
   "source": [
    "rep = command(r\"\"\"\n",
    "bot.pixiv.illust_follow('all').illusts\n",
    "\"\"\")\n",
    "rep = eval(rep)"
   ]
  },
  {
   "cell_type": "code",
   "execution_count": null,
   "metadata": {},
   "outputs": [],
   "source": [
    "rep = command(r\"\"\"\n",
    "[frame.delay for frame in bot.pixiv.ugoira_metadata(106569335).ugoira_metadata.frames]\n",
    "\"\"\")\n",
    "delay = eval(rep)\n",
    "delay"
   ]
  },
  {
   "cell_type": "code",
   "execution_count": null,
   "metadata": {
    "scrolled": true
   },
   "outputs": [],
   "source": [
    "for root, dirs, files in os.walk('.\\\\temp'):\n",
    "    for p in dirs+files:\n",
    "        print(os.path.join(root,p))"
   ]
  },
  {
   "cell_type": "code",
   "execution_count": null,
   "metadata": {
    "scrolled": true
   },
   "outputs": [],
   "source": [
    "model = 'pixiv'\n",
    "rep = command(f\"\"\"\n",
    "unplug {model}\n",
    "\"\"\")\n",
    "rep = command(f\"\"\"\n",
    "plug {model}\n",
    "\"\"\")"
   ]
  },
  {
   "cell_type": "code",
   "execution_count": null,
   "metadata": {
    "scrolled": true
   },
   "outputs": [],
   "source": [
    "''.join([hex(n)[1:] for n in [118642499,118639311,118614086,118612821,117505178,116951358,116696061,116435787,115810712,115411318,118604015,118579242,118576506,118565626,118538234,118535394,118535300,118513778,118483642,118470067,118467109,118464417,118460464,118456540,114299308,114199376,114352825,114273745,114001389,113918481,113737190,114966716,114638241,116165840,115954268,116532778,116627085,116829488,118315052,117946981,117836178,117753156,118059119,117616003,114856977,114927457,113887993,112183761,112183498,103845968,100938272,118399215,118399031,118390343,118390055,118381723,118356834,118341335,118328776,118322256,118321865,118322209,115561733,109185692,111910430,113565995,114224132,110614182,109510367,109510288,118312765,118312637,118310587,118297299,118279723,118267129,118267880,118260050,118255648,118248455,118248240,118246599,118239187,118233021,118230180,118222302,118221446,118216766,118198587,118198561,118196544,118192063,118177545,118171048,118142309,118136429,118135878,118132285,118121358,118119348,118108504,118108610,118108050,118078613,118070308,118051042,118023937,118016514,118003988,117998875,117998821,117987529,117985539,117966775,117956570,117956384,117956406,117956350,117945946,117941796,117941273,117939495,117914772,117914731,117911985,117905116,117881989,117865689,117859054,117847829,117819546,117815034,117815063,117808857,117795055,117783133,117783075,117763479,117755312,117755286,117754595,117748718,117747394,117741759,117717777,117679270,117653334,117646664,117614551,117612701,117583917,117565754,117541428,117524384,117504607,117479108,117453613,117446335,117444918,117444885,117438135,117434930,117435661,117434066,117422724,117408985,117390089,117385257,117379099,117372934,117370935,117369308,117342077,117341167,117337411,117336365,117315888,117305661,117300863,117297446,117294246,117268960,117267792,117267731,117250485,117250298,117247679,117246636,117230776,117226412,117225194,117224103,117211231,117204597,117181428,117181113,117180807,117180955,117180575,117180150,117178861,117179692,117179589,117179306,117179084,117160288,117160288,117158258,117157130,117154667,117135643,117120440,117103530,117103216,117083553,117071074,117048529,116335837,116333760,116260891,117066004,117063347,117029101,117017065,117006477,117001164,116984676,116973115,116965056,116965647,116965546,116965101,116956157,116939498,116922009,116915078,116907778,116897918,116866654,116848376,116817343,116810145,116807869,116803638,116788494,116786351,116756745,116750463,116745067,116740316,116727820,116717603,116710983,116697290,116682239,116647224,116639772,116614772,116602196,116588760,116577987,116535974,116568777,116568002,116566882,116524882,116515412,116511069,116507908,116492347,116492280,116481271,116491041,116483727,116477708,116469033,116460079,116457967,116453440,116454951,116453132,116450314,116445817,116443497,116443467,116430215,116416655,116399220,116397707,116392652,116376796,116374655,116347103,116338706,116338187,116333572,116298488,116295057,116284512,116281965,116275924,116275584,116274187,116261538,116253617,116251947,103444826,116204965,116205453,116187913,107987341,116177970,116168210,116144699,116144660,116142598,116138775,116124469,116123690,112225899,108370960,109968946,116085429,116084368,116017864,115969922,115970145,115958406,115940783,100178560,115917824,115913922,115903101,115901046,115883889,115875812,115842305,115824164,115817565,115803122,115789002,115772164,115761160,115739753,115726735,115726030,115707329,115706401,115696319,115696223,115693225,115679596,115669975,115670023,115668968,115667216,115657847,115653048,115642771,115643089,115641251,115638112,115606959,115604526,115604342,115597995,115589139,115589096,115570822,115570905,115561938,115561229,115558630,115558510,115546152,115548538,115534532,115514192,115512935,115508111,115505220,115501832,115498720,115487397,115484204,115486210,115478539,115463972,115443594,115427967,115424894,115400919,115373002,115367317,115371770,115371109,115360224,115345455,115322304,115313903,115310214,115298544,115281588,115281694,115281815,115281525,115281784,115281555,115266640,115243423,115253925,115247848,115233350,115238304,115224670,115218521,115218895,115194132,115191982,115187618,115177406,115173526,115164137,115152285,115114677,115103841,115079210,115035524,115026939,114998355,114979416,114948745,114916846,114911292,114902477,114872142,114866002,114862642,114857211,114852111,114839327,114824746,114808369,114797060,114763582,114764421,114760267,114747427,114738625,114728790,114730091,114724920,114696938,114675422,114675798,114665170,114660988,114618700,114643862,114618767,114597305,114584412,114575725,114563811,114564011,114562390,114541859,114520213,114520406,114518436,114506256,114503330,114478356,114464264,114456651,114416801,114404238,114386247,114372234,114342142,114344191,114333432,114319292,114316790,114307644,114302618,114292567,114294120,114289997,114287992,114281710,114272731,114272777,114265776,114256761,114251006,114239258,114240640,114238806,112901288]])"
   ]
  }
 ],
 "metadata": {
  "kernelspec": {
   "display_name": "Python 3 (ipykernel)",
   "language": "python",
   "name": "python3"
  },
  "language_info": {
   "codemirror_mode": {
    "name": "ipython",
    "version": 3
   },
   "file_extension": ".py",
   "mimetype": "text/x-python",
   "name": "python",
   "nbconvert_exporter": "python",
   "pygments_lexer": "ipython3",
   "version": "3.11.7"
  },
  "vscode": {
   "interpreter": {
    "hash": "21b8decb48dd3f3750d114ad4805a8afa0418a1c42adfa11e421c380f14aa1a0"
   }
  }
 },
 "nbformat": 4,
 "nbformat_minor": 4
}
