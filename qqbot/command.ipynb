{
 "cells": [
  {
   "cell_type": "code",
   "execution_count": 2,
   "metadata": {},
   "outputs": [],
   "source": [
    "import random, soup, time, json, requests\n",
    "from common import StartDaemonThread,DotDict"
   ]
  },
  {
   "cell_type": "code",
   "execution_count": 2,
   "metadata": {},
   "outputs": [
    {
     "name": "stdout",
     "output_type": "stream",
     "text": [
      "[\u001b[4;31m2023\u001b[0;4m-\u001b[4;33m03\u001b[0;4m-\u001b[4;32m09\u001b[0;4m \u001b[4;36m21\u001b[0;4m:\u001b[4;34m35\u001b[0;4m:\u001b[4;35m05\u001b[0m] [\u001b[32mINFO\u001b[0m] 认证成功\n",
      "[\u001b[4;31m2023\u001b[0;4m-\u001b[4;33m03\u001b[0;4m-\u001b[4;32m09\u001b[0;4m \u001b[4;36m21\u001b[0;4m:\u001b[4;34m35\u001b[0;4m:\u001b[4;35m05\u001b[0m] [\u001b[32mINFO\u001b[0m] 绑定成功\n"
     ]
    }
   ],
   "source": [
    "qq = 2907237958\n",
    "verifyKey = 1064393873\n",
    "host: str = 'mdie.asuscomm.com'\n",
    "port: int = 8080\n",
    "session = None\n",
    "\n",
    "from miraiapi import MiraiApi\n",
    "bot = MiraiApi(qq, verifyKey, host, port, session)"
   ]
  },
  {
   "cell_type": "code",
   "execution_count": 3,
   "metadata": {},
   "outputs": [],
   "source": [
    "host: str = 'localhost'\n",
    "port: int = 8188\n",
    "\n",
    "import socket\n",
    "def command(req):\n",
    "    sock = socket.socket(socket.AF_INET, socket.SOCK_STREAM)\n",
    "    resp = b''\n",
    "    try:\n",
    "        sock.connect((host, int(port)))\n",
    "        sock.sendall(req.encode('utf-8'))\n",
    "        while True:\n",
    "                data = sock.recv(8096)\n",
    "                if not data:\n",
    "                    break\n",
    "                else:\n",
    "                    resp += data\n",
    "    except socket.error:\n",
    "        pass\n",
    "    else:\n",
    "        resp = resp.decode('utf-8')\n",
    "        if not resp:\n",
    "            print('无法连接 QQBot-Term 服务器')\n",
    "        elif not resp.strip():\n",
    "            print('QQBot 命令格式错误')\n",
    "        else:\n",
    "            print(resp.strip())\n",
    "            return resp.strip()\n",
    "    finally:\n",
    "        sock.close()"
   ]
  },
  {
   "cell_type": "code",
   "execution_count": 29,
   "metadata": {
    "scrolled": true
   },
   "outputs": [
    {
     "name": "stdout",
     "output_type": "stream",
     "text": [
      "{}\n"
     ]
    }
   ],
   "source": [
    "rep = command(r\"\"\"\n",
    "restart\n",
    "\"\"\")"
   ]
  },
  {
   "cell_type": "code",
   "execution_count": 29,
   "metadata": {},
   "outputs": [
    {
     "name": "stdout",
     "output_type": "stream",
     "text": [
      "None\n"
     ]
    }
   ],
   "source": [
    "rep = command(r\"\"\"\n",
    "bot.plugins['pixiv'].day_r18_ranking(bot)\n",
    "\"\"\")"
   ]
  },
  {
   "cell_type": "code",
   "execution_count": 31,
   "metadata": {},
   "outputs": [
    {
     "name": "stdout",
     "output_type": "stream",
     "text": [
      "None\n"
     ]
    }
   ],
   "source": [
    "rep = command(r\"\"\"\n",
    "bot.plugins['pixiv'].illust_follow(bot,'2023-03-04')\n",
    "\"\"\")"
   ]
  },
  {
   "cell_type": "code",
   "execution_count": 43,
   "metadata": {},
   "outputs": [
    {
     "name": "stdout",
     "output_type": "stream",
     "text": [
      "None\n"
     ]
    }
   ],
   "source": [
    "rep = command(r\"\"\"\n",
    "bot.MessageAnalyst(bot.MessageId(1064393873,20755)[1])\n",
    "\"\"\")"
   ]
  },
  {
   "cell_type": "code",
   "execution_count": 4,
   "metadata": {},
   "outputs": [],
   "source": [
    "rep = command(r\"\"\"\n",
    "[bot.SendMessage('group',g,{\"type\": \"GroupMessage\", \"messageChain\": [{\"type\": \"Source\", \"id\": 27072, \"time\": 1676906253}, {\"type\": \"Forward\", \"nodeList\": [{\"senderId\": 2854196310, \"time\": 1676905202, \"senderName\": \"QQ管家\", \"messageChain\": [{\"type\": \"Plain\", \"text\": \"Pixiv 2023-02-19 R18榜单\"}]}, {\"senderId\": 2854196310, \"time\": 1676905236, \"senderName\": \"QQ管家\", \"messageChain\": [{\"type\": \"Plain\", \"text\": \"标题:メイちゃんずりずり Pid:105499306\\\\n作者:とっととねろ太郎。 Uid:5342006 True\\\\n时间:2023-02-18T21:55:23\\\\n类型:illust 收藏:7996 标签:\\\\nR-18:None\\\\nメイ(トレーナー):鸣和（训练家）\\\\nポケモン人間絵:宝可梦人类角色\\\\nパイズリ:乳交\\\\nメイっぱい:Rosa\\'s breasts\\\\n舌射:tongue ejaculation\\\\n馬乗りパイズリ:cowboy intramammary intercourse\\\\n黒スト:黑丝袜\\\\n\"}, {\"type\": \"Image\", \"imageId\": \"{E00D2933-206F-80C4-2493-6AB246CC7888}.png\", \"url\": \"http://gchat.qpic.cn/gchatpic_new/1064393873/0-0-E00D2933206F80C424936AB246CC7888/0?term=2\"}]}, {\"senderId\": 2854196310, \"time\": 1676905264, \"senderName\": \"QQ管家\", \"messageChain\": [{\"type\": \"Plain\", \"text\": \"标题:ロケの合間に秘密のご奉仕♥ Pid:105497604\\\\n作者:ミモネル Uid:112519 False\\\\n时间:2023-02-18T21:02:54\\\\n类型:illust 收藏:7877 标签:\\\\nR-18:None\\\\n佐城雪美:Yukimi Sajo\\\\nアイドルマスターシンデレラガールズ:偶像大师 灰姑娘女孩\\\\nフェラ:口交\\\\nつるまんさいこう:白虎太棒了\\\\nボコォ:隆起\\\\n\"}, {\"type\": \"Image\", \"imageId\": \"{322AD557-3E74-150E-D4D3-9FF291A0E994}.png\", \"url\": \"http://gchat.qpic.cn/gchatpic_new/1064393873/0-0-322AD5573E74150ED4D39FF291A0E994/0?term=2\"}]}, {\"senderId\": 2854196310, \"time\": 1676905380, \"senderName\": \"QQ管家\", \"messageChain\": [{\"type\": \"Plain\", \"text\": \"标题:ソーダ Pid:105473798\\\\n作者:ShiftyloR Uid:20569497 True\\\\n时间:2023-02-18T00:02:46\\\\n类型:illust 收藏:8052 标签:\\\\nR-18:None\\\\n勝利の女神:NIKKE:NIKKE：胜利女神\\\\n極上の乳:极上乳房\\\\nメイド:女仆\\\\nエロ蹲踞:H开腿\\\\n揉みしだきたい乳:诱人把玩的乳房\\\\n白タイツ:白裤袜\\\\n乳ワイパー:胸压玻璃\\\\nソーダ(勝利の女神:NIKKE):None\\\\nNIKKE5000users入り:NIKKE 5000+ users\\\\n\"}, {\"type\": \"Image\", \"imageId\": \"{049D7A01-7FA9-E774-5EA7-0E84DCF658B9}.png\", \"url\": \"http://gchat.qpic.cn/gchatpic_new/1064393873/0-0-049D7A017FA9E7745EA70E84DCF658B9/0?term=2\"}, {\"type\": \"Image\", \"imageId\": \"{252F8E4B-865E-6FD4-6488-2DDF0EBB4F5B}.png\", \"url\": \"http://gchat.qpic.cn/gchatpic_new/1064393873/0-0-252F8E4B865E6FD464882DDF0EBB4F5B/0?term=2\"}, {\"type\": \"Image\", \"imageId\": \"{B7060A0E-35C2-926A-D79B-7688E81F16A1}.png\", \"url\": \"http://gchat.qpic.cn/gchatpic_new/1064393873/0-0-B7060A0E35C2926AD79B7688E81F16A1/0?term=2\"}, {\"type\": \"Image\", \"imageId\": \"{79180E84-B509-3C40-D6A7-8F7EF720AC4E}.png\", \"url\": \"http://gchat.qpic.cn/gchatpic_new/1064393873/0-0-79180E84B5093C40D6A78F7EF720AC4E/0?term=2\"}]}, {\"senderId\": 2854196310, \"time\": 1676905621, \"senderName\": \"QQ管家\", \"messageChain\": [{\"type\": \"Plain\", \"text\": \"标题:Blue Archive Pid:105473666\\\\n作者:PoPer Uid:17312525 False\\\\n时间:2023-02-18T00:01:25\\\\n类型:illust 收藏:6949 标签:\\\\nR-18:None\\\\nブルーアーカイブ:碧蓝档案\\\\nフェラ:口交\\\\nおっぱい:欧派\\\\n巨乳:large breasts\\\\nむちむち:丰满\\\\n巨根:巨大阴茎\\\\n巨尻:肥臀\\\\nパンチラ:露内裤\\\\nスケバン:None\\\\n\"}, {\"type\": \"Image\", \"imageId\": \"{EEAC4CF1-EAB5-0C40-7A58-6DCFBA9CFB9E}.png\", \"url\": \"http://gchat.qpic.cn/gchatpic_new/1064393873/0-0-EEAC4CF1EAB50C407A586DCFBA9CFB9E/0?term=2\"}, {\"type\": \"Image\", \"imageId\": \"{A528F7BE-872C-F5F8-37CD-AA8EAD16D287}.png\", \"url\": \"http://gchat.qpic.cn/gchatpic_new/1064393873/0-0-A528F7BE872CF5F837CDAA8EAD16D287/0?term=2\"}, {\"type\": \"Image\", \"imageId\": \"{4A4D64DA-94F0-0BDB-0E53-5216202FBD90}.png\", \"url\": \"http://gchat.qpic.cn/gchatpic_new/1064393873/0-0-4A4D64DA94F00BDB0E535216202FBD90/0?term=2\"}, {\"type\": \"Image\", \"imageId\": \"{00A98926-7BBF-475A-0699-E121C0DD44F2}.png\", \"url\": \"http://gchat.qpic.cn/gchatpic_new/1064393873/0-0-00A989267BBF475A0699E121C0DD44F2/0?term=2\"}, {\"type\": \"Image\", \"imageId\": \"{E011FC63-3CD6-6048-EB3A-5AB0CF080749}.png\", \"url\": \"http://gchat.qpic.cn/gchatpic_new/1064393873/0-0-E011FC633CD66048EB3A5AB0CF080749/0?term=2\"}, {\"type\": \"Image\", \"imageId\": \"{4A1E99EA-AB62-B25D-A09A-5043ADFBF7DF}.png\", \"url\": \"http://gchat.qpic.cn/gchatpic_new/1064393873/0-0-4A1E99EAAB62B25DA09A5043ADFBF7DF/0?term=2\"}, {\"type\": \"Image\", \"imageId\": \"{35373693-7011-3B03-A32C-3BC900C1EC5E}.png\", \"url\": \"http://gchat.qpic.cn/gchatpic_new/1064393873/0-0-3537369370113B03A32C3BC900C1EC5E/0?term=2\"}, {\"type\": \"Image\", \"imageId\": \"{172D9B4F-2E31-ED0C-32F5-70AC7A6B3575}.png\", \"url\": \"http://gchat.qpic.cn/gchatpic_new/1064393873/0-0-172D9B4F2E31ED0C32F570AC7A6B3575/0?term=2\"}, {\"type\": \"Image\", \"imageId\": \"{4039C103-9A6C-E70D-8CA9-78FCB99FEA1A}.png\", \"url\": \"http://gchat.qpic.cn/gchatpic_new/1064393873/0-0-4039C1039A6CE70D8CA978FCB99FEA1A/0?term=2\"}]}, {\"senderId\": 2854196310, \"time\": 1676906118, \"senderName\": \"QQ管家\", \"messageChain\": [{\"type\": \"Plain\", \"text\": \"标题:処女が童貞との初体験で目覚めちゃう話・セカンドシーズン最終話 Pid:105517038\\\\n作者:どじろー Uid:55117629 False\\\\n时间:2023-02-19T12:32:16\\\\n类型:manga 收藏:13550 标签:\\\\nR-18:None\\\\n漫画:manga\\\\n創作男女:原创男女角色\\\\nイチャラブ:cute couple\\\\n真に愛し合う男女は美しい:None\\\\nめでたしめでたし:and they all lived happily ever after\\\\n愛のあるセックス:有爱的性\\\\n\"}, {\"type\": \"Image\", \"imageId\": \"{9000C920-FC02-A35B-6488-AB9D0814DF0E}.png\", \"url\": \"http://gchat.qpic.cn/gchatpic_new/1064393873/0-0-9000C920FC02A35B6488AB9D0814DF0E/0?term=2\"}, {\"type\": \"Image\", \"imageId\": \"{2CACC0A7-B07D-2E96-738D-87DF3E0AD9A2}.png\", \"url\": \"http://gchat.qpic.cn/gchatpic_new/1064393873/0-0-2CACC0A7B07D2E96738D87DF3E0AD9A2/0?term=2\"}, {\"type\": \"Image\", \"imageId\": \"{C6ECA83E-2AEE-6865-71C0-16A4858F548E}.png\", \"url\": \"http://gchat.qpic.cn/gchatpic_new/1064393873/0-0-C6ECA83E2AEE686571C016A4858F548E/0?term=2\"}, {\"type\": \"Plain\", \"text\": \"\\\\n剩余 18 张被折叠，请使用 pid 查看详情\"}]}, {\"senderId\": 2854196310, \"time\": 1676906127, \"senderName\": \"QQ管家\", \"messageChain\": [{\"type\": \"Plain\", \"text\": \"标题:お手入れしない系地雷系女子 Pid:105502627\\\\n作者:かものめ Uid:8814278 True\\\\n时间:2023-02-18T23:33:38\\\\n类型:illust 收藏:7093 标签:\\\\nR-18:None\\\\n陰毛:阴毛\\\\n剛毛:bristle\\\\n尻毛:None\\\\nアナル:肛门\\\\nすじ:骆驼趾\\\\n垂れ愛液:None\\\\n地雷系女子:None\\\\nマンぐり返し:None\\\\n尻神様:尻神样\\\\n\"}, {\"type\": \"Image\", \"imageId\": \"{ECDED80C-F098-CC29-CB71-E5C93362242E}.png\", \"url\": \"http://gchat.qpic.cn/gchatpic_new/1064393873/0-0-ECDED80CF098CC29CB71E5C93362242E/0?term=2\"}]}, {\"senderId\": 2854196310, \"time\": 1676906173, \"senderName\": \"QQ管家\", \"messageChain\": [{\"type\": \"Plain\", \"text\": \"标题:2-2 Pid:105496178\\\\n作者:_从前有颗星 Uid:18900473 True\\\\n时间:2023-02-18T20:13:22\\\\n类型:illust 收藏:6812 标签:\\\\nR-18:None\\\\n原创:original works\\\\n原神:Genshin Impact\\\\n巨乳:large breasts\\\\nレースクイーン:赛车女郎\\\\nエウルア・ローレンス:优菈·劳伦斯\\\\nエウルア:优菈\\\\n\"}, {\"type\": \"Image\", \"imageId\": \"{712DA7FF-168E-8748-EDEA-A2D743A0B35B}.png\", \"url\": \"http://gchat.qpic.cn/gchatpic_new/1064393873/0-0-712DA7FF168E8748EDEAA2D743A0B35B/0?term=2\"}, {\"type\": \"Image\", \"imageId\": \"{71C90445-3D6C-FF24-920B-27CAB16AE9D7}.png\", \"url\": \"http://gchat.qpic.cn/gchatpic_new/1064393873/0-0-71C904453D6CFF24920B27CAB16AE9D7/0?term=2\"}, {\"type\": \"Image\", \"imageId\": \"{49657CB8-2A3A-3079-8576-F3D5DE813259}.png\", \"url\": \"http://gchat.qpic.cn/gchatpic_new/1064393873/0-0-49657CB82A3A30798576F3D5DE813259/0?term=2\"}, {\"type\": \"Image\", \"imageId\": \"{701B2267-9CB7-D74F-DC9A-3C6CFE1B47A0}.png\", \"url\": \"http://gchat.qpic.cn/gchatpic_new/1064393873/0-0-701B22679CB7D74FDC9A3C6CFE1B47A0/0?term=2\"}]}, {\"senderId\": 2854196310, \"time\": 1676906184, \"senderName\": \"QQ管家\", \"messageChain\": [{\"type\": \"Plain\", \"text\": \"标题:四葉 Pid:105488517\\\\n作者:サインこす Uid:11229342 True\\\\n时间:2023-02-18T15:12:07\\\\n类型:illust 收藏:6676 标签:\\\\nR-18:None\\\\n五等分の花嫁:五等分的新娘\\\\n中野四葉:中野四叶\\\\nボテ腹:腹部隆起\\\\n妊婦:孕妇\\\\n巨乳:large breasts\\\\n背面座位:背面坐位\\\\n五等分の花嫁5000users入り:五等分的新娘5000收藏\\\\n\"}, {\"type\": \"Image\", \"imageId\": \"{40CE0999-F8F3-B073-5E56-F2E4DB31213A}.png\", \"url\": \"http://gchat.qpic.cn/gchatpic_new/1064393873/0-0-40CE0999F8F3B0735E56F2E4DB31213A/0?term=2\"}]}, {\"senderId\": 2854196310, \"time\": 1676906205, \"senderName\": \"QQ管家\", \"messageChain\": [{\"type\": \"Plain\", \"text\": \"标题:穂月かえで Pid:105503705\\\\n作者:gweda Uid:17282018 True\\\\n时间:2023-02-19T00:00:39\\\\n类型:illust 收藏:6638 标签:\\\\nR-18:None\\\\nお兄ちゃんはおしまい!:别当欧尼酱了!\\\\n穂月かえで:穗月枫\\\\nおっぱい:欧派\\\\nお兄ちゃんはおしまい1000users入り:别当欧尼酱了！1000收藏\\\\n後ろ矢筈:None\\\\n巨乳:large breasts\\\\n\"}, {\"type\": \"Image\", \"imageId\": \"{99706DBD-E38A-F736-0176-ADC762602319}.png\", \"url\": \"http://gchat.qpic.cn/gchatpic_new/1064393873/0-0-99706DBDE38AF7360176ADC762602319/0?term=2\"}, {\"type\": \"Image\", \"imageId\": \"{1859C0A2-8056-3EB9-87EE-2CEC7A5C97C5}.png\", \"url\": \"http://gchat.qpic.cn/gchatpic_new/1064393873/0-0-1859C0A280563EB987EE2CEC7A5C97C5/0?term=2\"}]}, {\"senderId\": 2854196310, \"time\": 1676906229, \"senderName\": \"QQ管家\", \"messageChain\": [{\"type\": \"Plain\", \"text\": \"标题:お姉ちゃんの逆さ撮り見ながらスライムオナニーするバーバラ♡ Pid:105497481\\\\n作者:柵野14 Uid:24328727 False\\\\n时间:2023-02-18T21:00:14\\\\n类型:illust 收藏:6547 标签:\\\\nR-18:None\\\\nふたなり:扶他\\\\n原神:Genshin Impact\\\\nバーバラ:芭芭拉\\\\nジン(原神):琴（原神）\\\\nふた×女:扶他×女\\\\nオナニー:自慰\\\\nスライム:史莱姆\\\\n大型オナホ:None\\\\n逆さ撮り:抄底偷拍\\\\n\"}, {\"type\": \"Image\", \"imageId\": \"{ED97A659-252B-7084-4535-3E313D6DE991}.png\", \"url\": \"http://gchat.qpic.cn/gchatpic_new/1064393873/0-0-ED97A659252B708445353E313D6DE991/0?term=2\"}, {\"type\": \"Image\", \"imageId\": \"{756A1391-3C9C-7295-63FE-5065DA2C6956}.png\", \"url\": \"http://gchat.qpic.cn/gchatpic_new/1064393873/0-0-756A13913C9C729563FE5065DA2C6956/0?term=2\"}]}]}]}) for g in bot.Group]\n",
    "\"\"\")"
   ]
  },
  {
   "cell_type": "code",
   "execution_count": 28,
   "metadata": {
    "scrolled": false
   },
   "outputs": [
    {
     "name": "stdout",
     "output_type": "stream",
     "text": [
      "成功: 已终止进程 \"java.exe\"，其 PID 为 16716。\n",
      "成功: 已终止进程 \"java.exe\"，其 PID 为 22464。\n"
     ]
    }
   ],
   "source": [
    "rep = command(r\"\"\"\n",
    "__import__('os').popen('taskkill /f /im java.exe').read()\n",
    "\"\"\")"
   ]
  },
  {
   "cell_type": "code",
   "execution_count": 6,
   "metadata": {
    "scrolled": false
   },
   "outputs": [
    {
     "name": "stdout",
     "output_type": "stream",
     "text": [
      "(0, 46701)\n"
     ]
    }
   ],
   "source": [
    "rep = command(r\"\"\"\n",
    "bot.SendMessage('friend',595618715,{'type': 'Forward', 'nodeList': [{'senderId': 595618715, 'senderName': 'Aq', 'messageChain': [{'type': 'Plain', 'text': '标题:にゃりす Pid:17079873\\n作者:ただねこ Uid:161481 False\\n时间:2011-03-02T23:53:44\\n类型:illust 收藏:16 标签:\\nレオタード:体操服\\nレオターリス:None\\nアリぱい:big-breasted Alice\\nアリス・マーガトロイド:爱丽丝・玛格特罗依德\\nにゃりす:None\\n東方:东方\\nニャリス:Nyalice'}], 'time': 1678464212}, {'senderId': 595618715, 'senderName': 'Aq', 'messageChain': [{'type': 'Image', 'url': 'https://i.pixiv.re/img-original/img/2011/03/02/23/53/44/17079873_p0.jpg'}], 'time': 1678464212}]})\n",
    "\"\"\")"
   ]
  },
  {
   "cell_type": "code",
   "execution_count": 37,
   "metadata": {
    "scrolled": false
   },
   "outputs": [
    {
     "name": "stdout",
     "output_type": "stream",
     "text": [
      "[\u001b[4;31m2023\u001b[0;4m-\u001b[4;33m02\u001b[0;4m-\u001b[4;32m28\u001b[0;4m \u001b[4;36m10\u001b[0;4m:\u001b[4;34m33\u001b[0;4m:\u001b[4;35m19\u001b[0m] [\u001b[32mINFO\u001b[0m] 发到 Group 714470571(152771):\n",
      "({'type': 'Plain', 'text': 'pixiv R-18 群消息二维码适配腾讯图床'},)\n",
      "[\u001b[4;31m2023\u001b[0;4m-\u001b[4;33m02\u001b[0;4m-\u001b[4;32m28\u001b[0;4m \u001b[4;36m10\u001b[0;4m:\u001b[4;34m33\u001b[0;4m:\u001b[4;35m58\u001b[0m] [\u001b[33mWARNING\u001b[0m] Bot被禁言，指Bot当前无法向指定群发送消息\n",
      "[\u001b[4;31m2023\u001b[0;4m-\u001b[4;33m02\u001b[0;4m-\u001b[4;32m28\u001b[0;4m \u001b[4;36m10\u001b[0;4m:\u001b[4;34m33\u001b[0;4m:\u001b[4;35m58\u001b[0m] [\u001b[32mINFO\u001b[0m] 发到 Group 683327278(20):\n",
      "({'type': 'Plain', 'text': 'pixiv R-18 群消息二维码适配腾讯图床'},)\n",
      "[\u001b[4;31m2023\u001b[0;4m-\u001b[4;33m02\u001b[0;4m-\u001b[4;32m28\u001b[0;4m \u001b[4;36m10\u001b[0;4m:\u001b[4;34m34\u001b[0;4m:\u001b[4;35m27\u001b[0m] [\u001b[32mINFO\u001b[0m] 发到 Group 260715723(27269):\n",
      "({'type': 'Plain', 'text': 'pixiv R-18 群消息二维码适配腾讯图床'},)\n",
      "[\u001b[4;31m2023\u001b[0;4m-\u001b[4;33m02\u001b[0;4m-\u001b[4;32m28\u001b[0;4m \u001b[4;36m10\u001b[0;4m:\u001b[4;34m35\u001b[0;4m:\u001b[4;35m03\u001b[0m] [\u001b[32mINFO\u001b[0m] 发到 Group 960745325(1393234):\n",
      "({'type': 'Plain', 'text': 'pixiv R-18 群消息二维码适配腾讯图床'},)\n",
      "[\u001b[4;31m2023\u001b[0;4m-\u001b[4;33m02\u001b[0;4m-\u001b[4;32m28\u001b[0;4m \u001b[4;36m10\u001b[0;4m:\u001b[4;34m35\u001b[0;4m:\u001b[4;35m35\u001b[0m] [\u001b[33mWARNING\u001b[0m] Bot被禁言，指Bot当前无法向指定群发送消息\n",
      "[\u001b[4;31m2023\u001b[0;4m-\u001b[4;33m02\u001b[0;4m-\u001b[4;32m28\u001b[0;4m \u001b[4;36m10\u001b[0;4m:\u001b[4;34m35\u001b[0;4m:\u001b[4;35m35\u001b[0m] [\u001b[32mINFO\u001b[0m] 发到 Group 941949819(20):\n",
      "({'type': 'Plain', 'text': 'pixiv R-18 群消息二维码适配腾讯图床'},)\n",
      "[\u001b[4;31m2023\u001b[0;4m-\u001b[4;33m02\u001b[0;4m-\u001b[4;32m28\u001b[0;4m \u001b[4;36m10\u001b[0;4m:\u001b[4;34m36\u001b[0;4m:\u001b[4;35m05\u001b[0m] [\u001b[32mINFO\u001b[0m] 发到 Group 778445670(2491):\n",
      "({'type': 'Plain', 'text': 'pixiv R-18 群消息二维码适配腾讯图床'},)\n"
     ]
    }
   ],
   "source": [
    "for g in bot.List('group')[1]:\n",
    "    bot.SendMessage('group',g.id,soup.Plain('pixiv R-18 群消息二维码适配腾讯图床'))\n",
    "    time.sleep(random.randint(20,40))"
   ]
  },
  {
   "cell_type": "code",
   "execution_count": null,
   "metadata": {},
   "outputs": [
    {
     "name": "stdout",
     "output_type": "stream",
     "text": [
      "[\u001b[4;31m2023\u001b[0;4m-\u001b[4;33m02\u001b[0;4m-\u001b[4;32m27\u001b[0;4m \u001b[4;36m17\u001b[0;4m:\u001b[4;34m41\u001b[0;4m:\u001b[4;35m19\u001b[0m] [\u001b[32mINFO\u001b[0m] 发到 Friend 183744529(53877):\n",
      "({'type': 'Plain', 'text': '修复手机端好友搜图，因腾讯图床盗链问题导致的色相和特征搜索结果始终一致的问题'},)\n",
      "[\u001b[4;31m2023\u001b[0;4m-\u001b[4;33m02\u001b[0;4m-\u001b[4;32m27\u001b[0;4m \u001b[4;36m17\u001b[0;4m:\u001b[4;34m42\u001b[0;4m:\u001b[4;35m03\u001b[0m] [\u001b[32mINFO\u001b[0m] 发到 Friend 595618715(53878):\n",
      "({'type': 'Plain', 'text': '修复手机端好友搜图，因腾讯图床盗链问题导致的色相和特征搜索结果始终一致的问题'},)\n",
      "[\u001b[4;31m2023\u001b[0;4m-\u001b[4;33m02\u001b[0;4m-\u001b[4;32m27\u001b[0;4m \u001b[4;36m17\u001b[0;4m:\u001b[4;34m42\u001b[0;4m:\u001b[4;35m44\u001b[0m] [\u001b[32mINFO\u001b[0m] 发到 Friend 819315829(53879):\n",
      "({'type': 'Plain', 'text': '修复手机端好友搜图，因腾讯图床盗链问题导致的色相和特征搜索结果始终一致的问题'},)\n",
      "[\u001b[4;31m2023\u001b[0;4m-\u001b[4;33m02\u001b[0;4m-\u001b[4;32m27\u001b[0;4m \u001b[4;36m17\u001b[0;4m:\u001b[4;34m43\u001b[0;4m:\u001b[4;35m42\u001b[0m] [\u001b[32mINFO\u001b[0m] 发到 Friend 1025109710(53880):\n",
      "({'type': 'Plain', 'text': '修复手机端好友搜图，因腾讯图床盗链问题导致的色相和特征搜索结果始终一致的问题'},)\n",
      "[\u001b[4;31m2023\u001b[0;4m-\u001b[4;33m02\u001b[0;4m-\u001b[4;32m27\u001b[0;4m \u001b[4;36m17\u001b[0;4m:\u001b[4;34m44\u001b[0;4m:\u001b[4;35m17\u001b[0m] [\u001b[32mINFO\u001b[0m] 发到 Friend 1064393873(53881):\n",
      "({'type': 'Plain', 'text': '修复手机端好友搜图，因腾讯图床盗链问题导致的色相和特征搜索结果始终一致的问题'},)\n",
      "[\u001b[4;31m2023\u001b[0;4m-\u001b[4;33m02\u001b[0;4m-\u001b[4;32m27\u001b[0;4m \u001b[4;36m17\u001b[0;4m:\u001b[4;34m44\u001b[0;4m:\u001b[4;35m54\u001b[0m] [\u001b[32mINFO\u001b[0m] 发到 Friend 1181030585(53882):\n",
      "({'type': 'Plain', 'text': '修复手机端好友搜图，因腾讯图床盗链问题导致的色相和特征搜索结果始终一致的问题'},)\n",
      "[\u001b[4;31m2023\u001b[0;4m-\u001b[4;33m02\u001b[0;4m-\u001b[4;32m27\u001b[0;4m \u001b[4;36m17\u001b[0;4m:\u001b[4;34m45\u001b[0;4m:\u001b[4;35m37\u001b[0m] [\u001b[32mINFO\u001b[0m] 发到 Friend 1229785266(53883):\n",
      "({'type': 'Plain', 'text': '修复手机端好友搜图，因腾讯图床盗链问题导致的色相和特征搜索结果始终一致的问题'},)\n",
      "[\u001b[4;31m2023\u001b[0;4m-\u001b[4;33m02\u001b[0;4m-\u001b[4;32m27\u001b[0;4m \u001b[4;36m17\u001b[0;4m:\u001b[4;34m46\u001b[0;4m:\u001b[4;35m25\u001b[0m] [\u001b[32mINFO\u001b[0m] 发到 Friend 1355205879(53884):\n",
      "({'type': 'Plain', 'text': '修复手机端好友搜图，因腾讯图床盗链问题导致的色相和特征搜索结果始终一致的问题'},)\n",
      "[\u001b[4;31m2023\u001b[0;4m-\u001b[4;33m02\u001b[0;4m-\u001b[4;32m27\u001b[0;4m \u001b[4;36m17\u001b[0;4m:\u001b[4;34m47\u001b[0;4m:\u001b[4;35m23\u001b[0m] [\u001b[32mINFO\u001b[0m] 发到 Friend 1361348755(53885):\n",
      "({'type': 'Plain', 'text': '修复手机端好友搜图，因腾讯图床盗链问题导致的色相和特征搜索结果始终一致的问题'},)\n",
      "[\u001b[4;31m2023\u001b[0;4m-\u001b[4;33m02\u001b[0;4m-\u001b[4;32m27\u001b[0;4m \u001b[4;36m17\u001b[0;4m:\u001b[4;34m48\u001b[0;4m:\u001b[4;35m19\u001b[0m] [\u001b[32mINFO\u001b[0m] 发到 Friend 1602912049(53886):\n",
      "({'type': 'Plain', 'text': '修复手机端好友搜图，因腾讯图床盗链问题导致的色相和特征搜索结果始终一致的问题'},)\n",
      "[\u001b[4;31m2023\u001b[0;4m-\u001b[4;33m02\u001b[0;4m-\u001b[4;32m27\u001b[0;4m \u001b[4;36m17\u001b[0;4m:\u001b[4;34m49\u001b[0;4m:\u001b[4;35m17\u001b[0m] [\u001b[32mINFO\u001b[0m] 发到 Friend 1721651613(53887):\n",
      "({'type': 'Plain', 'text': '修复手机端好友搜图，因腾讯图床盗链问题导致的色相和特征搜索结果始终一致的问题'},)\n",
      "[\u001b[4;31m2023\u001b[0;4m-\u001b[4;33m02\u001b[0;4m-\u001b[4;32m27\u001b[0;4m \u001b[4;36m17\u001b[0;4m:\u001b[4;34m50\u001b[0;4m:\u001b[4;35m05\u001b[0m] [\u001b[32mINFO\u001b[0m] 发到 Friend 2078438641(53888):\n",
      "({'type': 'Plain', 'text': '修复手机端好友搜图，因腾讯图床盗链问题导致的色相和特征搜索结果始终一致的问题'},)\n",
      "[\u001b[4;31m2023\u001b[0;4m-\u001b[4;33m02\u001b[0;4m-\u001b[4;32m27\u001b[0;4m \u001b[4;36m17\u001b[0;4m:\u001b[4;34m50\u001b[0;4m:\u001b[4;35m47\u001b[0m] [\u001b[32mINFO\u001b[0m] 发到 Friend 2198426231(53889):\n",
      "({'type': 'Plain', 'text': '修复手机端好友搜图，因腾讯图床盗链问题导致的色相和特征搜索结果始终一致的问题'},)\n",
      "[\u001b[4;31m2023\u001b[0;4m-\u001b[4;33m02\u001b[0;4m-\u001b[4;32m27\u001b[0;4m \u001b[4;36m17\u001b[0;4m:\u001b[4;34m51\u001b[0;4m:\u001b[4;35m31\u001b[0m] [\u001b[32mINFO\u001b[0m] 发到 Friend 2500498989(53890):\n",
      "({'type': 'Plain', 'text': '修复手机端好友搜图，因腾讯图床盗链问题导致的色相和特征搜索结果始终一致的问题'},)\n"
     ]
    }
   ],
   "source": [
    "for f in bot.List('friend')[1]:\n",
    "    bot.SendMessage('friend',f.id,soup.Plain('修复手机端好友搜图，因腾讯图床盗链问题导致的色相和特征搜索结果始终一致的问题'))\n",
    "    time.sleep(random.randint(30,60))"
   ]
  },
  {
   "cell_type": "code",
   "execution_count": 27,
   "metadata": {},
   "outputs": [
    {
     "ename": "TypeError",
     "evalue": "Forward() got an unexpected keyword argument 'title'",
     "output_type": "error",
     "traceback": [
      "\u001b[1;31m---------------------------------------------------------------------------\u001b[0m",
      "\u001b[1;31mTypeError\u001b[0m                                 Traceback (most recent call last)",
      "\u001b[1;32mc:\\Users\\10643\\Documents\\qqbot\\command.ipynb 单元格 13\u001b[0m in \u001b[0;36m2\n\u001b[0;32m      <a href='vscode-notebook-cell://ssh-remote%2Bmdie.asuscomm.com/c%3A/Users/10643/Documents/qqbot/command.ipynb#X15sdnNjb2RlLXJlbW90ZQ%3D%3D?line=0'>1</a>\u001b[0m \u001b[39mimport\u001b[39;00m \u001b[39msoup\u001b[39;00m\n\u001b[1;32m----> <a href='vscode-notebook-cell://ssh-remote%2Bmdie.asuscomm.com/c%3A/Users/10643/Documents/qqbot/command.ipynb#X15sdnNjb2RlLXJlbW90ZQ%3D%3D?line=1'>2</a>\u001b[0m bot\u001b[39m.\u001b[39mSendMessage(\u001b[39m'\u001b[39m\u001b[39mgroup\u001b[39m\u001b[39m'\u001b[39m,\u001b[39m260715723\u001b[39m,soup\u001b[39m.\u001b[39;49mForward(soup\u001b[39m.\u001b[39;49mNode(\u001b[39m'\u001b[39;49m\u001b[39m2907237958\u001b[39;49m\u001b[39m'\u001b[39;49m,\u001b[39m'\u001b[39;49m\u001b[39mbot\u001b[39;49m\u001b[39m'\u001b[39;49m,soup\u001b[39m.\u001b[39;49mPlain(\u001b[39m'\u001b[39;49m\u001b[39mtest\u001b[39;49m\u001b[39m'\u001b[39;49m)),title\u001b[39m=\u001b[39;49m\u001b[39m'\u001b[39;49m\u001b[39m标题\u001b[39;49m\u001b[39m'\u001b[39;49m,brief\u001b[39m=\u001b[39;49m\u001b[39m'\u001b[39;49m\u001b[39m预览\u001b[39;49m\u001b[39m'\u001b[39;49m,source\u001b[39m=\u001b[39;49m\u001b[39m'\u001b[39;49m\u001b[39m源\u001b[39;49m\u001b[39m'\u001b[39;49m,preview\u001b[39m=\u001b[39;49m[\u001b[39m1\u001b[39;49m,\u001b[39m2\u001b[39;49m,\u001b[39m3\u001b[39;49m,\u001b[39m4\u001b[39;49m],summary\u001b[39m=\u001b[39;49m\u001b[39m'\u001b[39;49m\u001b[39m总结\u001b[39;49m\u001b[39m'\u001b[39;49m))\n",
      "\u001b[1;31mTypeError\u001b[0m: Forward() got an unexpected keyword argument 'title'"
     ]
    }
   ],
   "source": [
    "import soup\n",
    "bot.SendMessage('group',260715723,soup.Forward(soup.Node('2907237958','bot',soup.Plain('test')),title='标题',brief='预览',source='源',preview=[1,2,3,4],summary='总结'))"
   ]
  }
 ],
 "metadata": {
  "kernelspec": {
   "display_name": "Python 3 (ipykernel)",
   "language": "python",
   "name": "python3"
  },
  "language_info": {
   "codemirror_mode": {
    "name": "ipython",
    "version": 3
   },
   "file_extension": ".py",
   "mimetype": "text/x-python",
   "name": "python",
   "nbconvert_exporter": "python",
   "pygments_lexer": "ipython3",
   "version": "3.10.7"
  },
  "vscode": {
   "interpreter": {
    "hash": "21b8decb48dd3f3750d114ad4805a8afa0418a1c42adfa11e421c380f14aa1a0"
   }
  }
 },
 "nbformat": 4,
 "nbformat_minor": 2
}
