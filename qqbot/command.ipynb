{
 "cells": [
  {
   "cell_type": "code",
   "execution_count": 26,
   "metadata": {},
   "outputs": [
    {
     "ename": "ImportError",
     "evalue": "cannot import name 'parse_json' from 'common' (c:\\Users\\10643\\Documents\\Python Scripts\\qqbot\\qqbot\\common.py)",
     "output_type": "error",
     "traceback": [
      "\u001b[1;31m---------------------------------------------------------------------------\u001b[0m",
      "\u001b[1;31mImportError\u001b[0m                               Traceback (most recent call last)",
      "Cell \u001b[1;32mIn [26], line 3\u001b[0m\n\u001b[0;32m      1\u001b[0m \u001b[39mimport\u001b[39;00m \u001b[39mrandom\u001b[39;00m\u001b[39m,\u001b[39m \u001b[39msoup\u001b[39;00m\u001b[39m,\u001b[39m \u001b[39mtime\u001b[39;00m\n\u001b[0;32m      2\u001b[0m \u001b[39mfrom\u001b[39;00m \u001b[39mcommon\u001b[39;00m \u001b[39mimport\u001b[39;00m StartDaemonThread,DotDict\n\u001b[1;32m----> 3\u001b[0m \u001b[39mfrom\u001b[39;00m \u001b[39mcommon\u001b[39;00m \u001b[39mimport\u001b[39;00m parse_json\n",
      "\u001b[1;31mImportError\u001b[0m: cannot import name 'parse_json' from 'common' (c:\\Users\\10643\\Documents\\Python Scripts\\qqbot\\qqbot\\common.py)"
     ]
    }
   ],
   "source": [
    "import random, soup, time\n",
    "from common import StartDaemonThread,DotDict\n",
    "from common import parse_json"
   ]
  },
  {
   "cell_type": "code",
   "execution_count": 1,
   "metadata": {},
   "outputs": [],
   "source": [
    "qq = 2907237958\n",
    "verifyKey = 1064393873\n",
    "host: str = 'localhost'\n",
    "port: int = 8080\n",
    "session = '4kEk6aLM'\n",
    "\n",
    "from miraiapi import MiraiApi\n",
    "bot = MiraiApi(qq, verifyKey, host, port, session)"
   ]
  },
  {
   "cell_type": "code",
   "execution_count": 2,
   "metadata": {},
   "outputs": [],
   "source": [
    "host: str = 'localhost'\n",
    "port: int = 8188\n",
    "\n",
    "import socket\n",
    "def command(req):\n",
    "    sock = socket.socket(socket.AF_INET, socket.SOCK_STREAM)\n",
    "    resp = b''\n",
    "    try:\n",
    "        sock.connect((host, int(port)))\n",
    "        sock.sendall(req.encode('utf-8'))\n",
    "        while True:\n",
    "                data = sock.recv(8096)\n",
    "                if not data:\n",
    "                    break\n",
    "                else:\n",
    "                    resp += data\n",
    "    except socket.error:\n",
    "        pass\n",
    "    else:\n",
    "        resp = resp.decode('utf-8')\n",
    "        if not resp:\n",
    "            print('无法连接 QQBot-Term 服务器')\n",
    "        elif not resp.strip():\n",
    "            print('QQBot 命令格式错误')\n",
    "        else:\n",
    "            print(resp.strip())\n",
    "            return resp.strip()\n",
    "    finally:\n",
    "        sock.close()"
   ]
  },
  {
   "cell_type": "code",
   "execution_count": 16,
   "metadata": {},
   "outputs": [
    {
     "name": "stdout",
     "output_type": "stream",
     "text": [
      "成功：加载插件 pixiv（回调函数['onInterval', 'onQQMessage', 'onPlug', 'onUnplug']、定时任务['week_clear_pid', 'day_ranking', 'day_r18_ranking', 'illust_follow']）\n"
     ]
    }
   ],
   "source": [
    "rep = command(r\"\"\"\n",
    "plug pixiv\n",
    "\"\"\")"
   ]
  },
  {
   "cell_type": "code",
   "execution_count": 45,
   "metadata": {},
   "outputs": [
    {
     "name": "stdout",
     "output_type": "stream",
     "text": [
      "{'illusts': [{'id': 75357824, 'title': 'ルリナ', 'type': 'illust', 'image_urls': {'square_medium': 'https://i.pximg.net/c/360x360_70/img-master/img/2019/06/23/00/18/06/75357824_p0_square1200.jpg', 'medium': 'https://i.pximg.net/c/540x540_70/img-master/img/2019/06/23/00/18/06/75357824_p0_master1200.jpg', 'large': 'https://i.pximg.net/c/600x1200_90/img-master/img/2019/06/23/00/18/06/75357824_p0_master1200.jpg'}, 'caption': '', 'restrict': 0, 'user': {'id': 16251042, 'name': 'HAIBIN G', 'account': '1213420620', 'profile_image_urls': {'medium': 'https://i.pximg.net/user-profile/img/2019/06/23/00/19/45/15922266_4790607f1a11478495edfce7743f4042_170.jpg'}, 'is_followed': False}, 'tags': [{'name': 'ポケモン', 'translated_name': '精灵宝可梦'}, {'name': '精灵宝可梦', 'translated_name': None}, {'name': 'ポケモン剣盾', 'translated_name': '宝可梦剑盾'}, {'name': '宝可梦剑盾', 'translated_name': None}, {'name': 'Nessa', 'translated_name': None}, {'name': '極上の女体', 'translated_name': '极上女体'}, {'name': '褐色娘', 'translated_name': '黑皮少女'}, {'name': 'ポケモン10000users入り', 'translated_name': '宝可梦1000收藏'}, {'name': 'ジムリーダー(ガラル)', 'translated_name': '道馆主（加拉尔）'}, {'name': '口袋妖怪', 'translated_name': 'Pokémon'}], 'tools': [], 'create_date': '2019-06-23T00:18:06+09:00', 'page_count': 1, 'width': 1562, 'height': 2500, 'sanity_level': 2, 'x_restrict': 0, 'series': None, 'meta_single_page': {'original_image_url': 'https://i.pximg.net/img-original/img/2019/06/23/00/18/06/75357824_p0.jpg'}, 'meta_pages': [], 'total_view': 13184, 'total_bookmarks': 645, 'is_bookmarked': False, 'visible': True, 'is_muted': False, 'illust_ai_type': 0, 'illust_book_style': 0}], 'next_url': None, 'search_span_limit': 31536000}\n"
     ]
    }
   ],
   "source": [
    "rep = command(r\"\"\"\n",
    "bot.pixiv.search_illust('褐色 精灵 10000users入り')\n",
    "\"\"\")"
   ]
  },
  {
   "cell_type": "code",
   "execution_count": 17,
   "metadata": {},
   "outputs": [
    {
     "name": "stdout",
     "output_type": "stream",
     "text": [
      "None\n"
     ]
    }
   ],
   "source": [
    "rep = command(r\"\"\"\n",
    "bot.plugins['pixiv'].day_r18_ranking(bot)\n",
    "\"\"\")"
   ]
  },
  {
   "cell_type": "code",
   "execution_count": 3,
   "metadata": {},
   "outputs": [
    {
     "name": "stdout",
     "output_type": "stream",
     "text": [
      "None\n"
     ]
    }
   ],
   "source": [
    "rep = command(r\"\"\"\n",
    "bot.plugins['pixiv'].illust_follow(bot)\n",
    "\"\"\")"
   ]
  },
  {
   "cell_type": "code",
   "execution_count": 2,
   "metadata": {},
   "outputs": [
    {
     "name": "stdout",
     "output_type": "stream",
     "text": [
      "None\n"
     ]
    }
   ],
   "source": [
    "rep = command(r\"\"\"\n",
    "bot.MessageAnalyst(bot.MessageId(18842))\n",
    "\"\"\")"
   ]
  },
  {
   "cell_type": "code",
   "execution_count": 31,
   "metadata": {},
   "outputs": [
    {
     "name": "stdout",
     "output_type": "stream",
     "text": [
      "qZODyfZ5\n"
     ]
    }
   ],
   "source": [
    "rep = command(r\"\"\"\n",
    "bot.MemberInfo('get',260715723,1064393873)\n",
    "\"\"\")"
   ]
  },
  {
   "cell_type": "code",
   "execution_count": 3,
   "metadata": {},
   "outputs": [
    {
     "name": "stdout",
     "output_type": "stream",
     "text": [
      "qZODyfZ5\n"
     ]
    }
   ],
   "source": [
    "rep = command(r\"\"\"\n",
    "bot.Mirai.session\n",
    "\"\"\")"
   ]
  },
  {
   "cell_type": "code",
   "execution_count": 28,
   "metadata": {},
   "outputs": [
    {
     "data": {
      "text/plain": [
       "[{'id': 1064393873,\n",
       "  'memberName': '受、死',\n",
       "  'specialTitle': '',\n",
       "  'permission': 'OWNER',\n",
       "  'joinTimestamp': 1669711183,\n",
       "  'lastSpeakTimestamp': 1673970553,\n",
       "  'muteTimeRemaining': 0,\n",
       "  'group': {'id': 260715723, 'name': '鸡兔同笼', 'permission': 'ADMINISTRATOR'}},\n",
       " {'id': 2640277945,\n",
       "  'memberName': '萝卜TD',\n",
       "  'specialTitle': '',\n",
       "  'permission': 'MEMBER',\n",
       "  'joinTimestamp': 1669711216,\n",
       "  'lastSpeakTimestamp': 1673537316,\n",
       "  'muteTimeRemaining': 0,\n",
       "  'group': {'id': 260715723, 'name': '鸡兔同笼', 'permission': 'ADMINISTRATOR'}},\n",
       " {'id': 3338059470,\n",
       "  'memberName': '萝卜干',\n",
       "  'specialTitle': '',\n",
       "  'permission': 'MEMBER',\n",
       "  'joinTimestamp': 1669711216,\n",
       "  'lastSpeakTimestamp': 1669711216,\n",
       "  'muteTimeRemaining': 0,\n",
       "  'group': {'id': 260715723, 'name': '鸡兔同笼', 'permission': 'ADMINISTRATOR'}}]"
      ]
     },
     "execution_count": 28,
     "metadata": {},
     "output_type": "execute_result"
    }
   ],
   "source": [
    "eval(rep) # 格式JSON"
   ]
  },
  {
   "cell_type": "code",
   "execution_count": 5,
   "metadata": {},
   "outputs": [],
   "source": [
    "import requests\n",
    "import json\n",
    "s = requests.session()"
   ]
  },
  {
   "cell_type": "code",
   "execution_count": 15,
   "metadata": {},
   "outputs": [
    {
     "data": {
      "text/plain": [
       "{'code': 400, 'msg': '无效参数'}"
      ]
     },
     "execution_count": 15,
     "metadata": {},
     "output_type": "execute_result"
    }
   ],
   "source": [
    "r = s.post(\n",
    "    'http://127.0.0.1:8080/cmd/register',\n",
    "    json={\n",
    "        \"sessionKey\": 'qZODyfZ5',\n",
    "        \"command\": ['exit']\n",
    "    }\n",
    "    # json={\n",
    "    #     \"sessionKey\": 'qZODyfZ5',\n",
    "    #     \"name\":\"shutdown\",\n",
    "    #     \"alias\":[\"close\", \"exit\"],\n",
    "    #     \"usage\":\"/shutdown <nil>\",\n",
    "    #     \"description\":\"Shutdown console.\"\n",
    "    # }\n",
    ")\n",
    "r.json()"
   ]
  },
  {
   "cell_type": "code",
   "execution_count": 26,
   "metadata": {},
   "outputs": [
    {
     "name": "stdout",
     "output_type": "stream",
     "text": [
      "CPU:42.3 [29.4, 28.8, 26.2, 30.3, 60.3, 71.2, 52.2, 40.0]\n",
      "\n"
     ]
    }
   ],
   "source": [
    "import psutil\n",
    "s = f\"\"\"CPU:{psutil.cpu_percent(percpu=False)} {zip([n for n in range(psutil.cpu_count())],psutil.cpu_percent(percpu=True))}\n",
    "\"\"\"\n",
    "print(s)"
   ]
  }
 ],
 "metadata": {
  "kernelspec": {
   "display_name": "Python 3.10.7 64-bit",
   "language": "python",
   "name": "python3"
  },
  "language_info": {
   "codemirror_mode": {
    "name": "ipython",
    "version": 3
   },
   "file_extension": ".py",
   "mimetype": "text/x-python",
   "name": "python",
   "nbconvert_exporter": "python",
   "pygments_lexer": "ipython3",
   "version": "3.10.7 (tags/v3.10.7:6cc6b13, Sep  5 2022, 14:08:36) [MSC v.1933 64 bit (AMD64)]"
  },
  "orig_nbformat": 4,
  "vscode": {
   "interpreter": {
    "hash": "21b8decb48dd3f3750d114ad4805a8afa0418a1c42adfa11e421c380f14aa1a0"
   }
  }
 },
 "nbformat": 4,
 "nbformat_minor": 2
}
