{
 "cells": [
  {
   "cell_type": "code",
   "execution_count": 29,
   "metadata": {},
   "outputs": [
    {
     "name": "stdout",
     "output_type": "stream",
     "text": [
      "Traceback (most recent call last):\n",
      "  File \"C:\\Users\\10643\\Documents\\qqbot\\qqbot\\termbot.py\", line 37, in onTermCommand\n",
      "    result, err = None, 'QQBot 命令格式错误'\n",
      "  File \"<string>\", line 1\n",
      "    [g.id,g.name for g in bot.Group]\n",
      "     ^^^^^^^^^^^\n",
      "SyntaxError: did you forget parentheses around the comprehension target?\n"
     ]
    }
   ],
   "source": [
    "command = '''[g.id,g.name for g in bot.Group]'''\n",
    "host: str = 'localhost'\n",
    "port: int = 8188\n",
    "\n",
    "import socket\n",
    "sock = socket.socket(socket.AF_INET, socket.SOCK_STREAM)\n",
    "resp = b''\n",
    "try:\n",
    "    sock.connect((host, int(port)))\n",
    "    sock.sendall(command.encode('utf-8'))\n",
    "    while True:\n",
    "            data = sock.recv(8096)\n",
    "            if not data:\n",
    "                break\n",
    "            else:\n",
    "                resp += data\n",
    "except socket.error:\n",
    "    pass\n",
    "else:\n",
    "    resp = resp.decode('utf-8')\n",
    "    if not resp:\n",
    "        print('无法连接 QQBot-Term 服务器')\n",
    "    elif not resp.strip():\n",
    "        print('QQBot 命令格式错误')\n",
    "    else:\n",
    "        print(resp.strip())\n",
    "finally:\n",
    "    sock.close()"
   ]
  },
  {
   "cell_type": "code",
   "execution_count": null,
   "metadata": {},
   "outputs": [
    {
     "name": "stdout",
     "output_type": "stream",
     "text": [
      "[2022-11-19 01:30:06] [INFO] 认证成功\n",
      "[2022-11-19 01:30:08] [INFO] 绑定成功\n",
      "[2022-11-19 01:30:08] [INFO] 2907237958, rUhmHjpN\n"
     ]
    }
   ],
   "source": [
    "import soup\n",
    "from miraiapi import MiraiApi\n",
    "qq = 2907237958\n",
    "verifyKey = 1064393873\n",
    "host: str = 'localhost'\n",
    "port: int = 8080\n",
    "session: str | None = None\n",
    "bot = MiraiApi(qq, verifyKey, host, port, session)\n",
    "print(qq, bot.session)"
   ]
  },
  {
   "cell_type": "code",
   "execution_count": 28,
   "metadata": {},
   "outputs": [
    {
     "name": "stdout",
     "output_type": "stream",
     "text": [
      "Traceback (most recent call last):\n",
      "  File \"C:\\Users\\10643\\Documents\\qqbot\\qqbot\\termbot.py\", line 37, in onTermCommand\n",
      "    result, err = None, 'QQBot å½ä»¤æ ¼å¼éè¯¯'\n",
      "  File \"<string>\", line 1\n",
      "    [g.id,g.name for g in bot.Group]\n",
      "     ^^^^^^^^^^^\n",
      "SyntaxError: did you forget parentheses around the comprehension target?\n"
     ]
    }
   ],
   "source": [
    "print('Traceback (most recent call last):\\n  File \"C:\\\\Users\\\\10643\\\\Documents\\\\qqbot\\\\qqbot\\\\termbot.py\", line 37, in onTermCommand\\n    result, err = None, \\'QQBot \\xe5\\x91\\xbd\\xe4\\xbb\\xa4\\xe6\\xa0\\xbc\\xe5\\xbc\\x8f\\xe9\\x94\\x99\\xe8\\xaf\\xaf\\'\\n  File \"<string>\", line 1\\n    [g.id,g.name for g in bot.Group]\\n     ^^^^^^^^^^^\\nSyntaxError: did you forget parentheses around the comprehension target?')"
   ]
  }
 ],
 "metadata": {
  "kernelspec": {
   "display_name": "Python 3.10.7 64-bit",
   "language": "python",
   "name": "python3"
  },
  "language_info": {
   "codemirror_mode": {
    "name": "ipython",
    "version": 3
   },
   "file_extension": ".py",
   "mimetype": "text/x-python",
   "name": "python",
   "nbconvert_exporter": "python",
   "pygments_lexer": "ipython3",
   "version": "3.10.7"
  },
  "orig_nbformat": 4,
  "vscode": {
   "interpreter": {
    "hash": "21b8decb48dd3f3750d114ad4805a8afa0418a1c42adfa11e421c380f14aa1a0"
   }
  }
 },
 "nbformat": 4,
 "nbformat_minor": 2
}
