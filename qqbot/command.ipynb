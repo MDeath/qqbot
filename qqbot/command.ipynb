{
 "cells": [
  {
   "cell_type": "code",
   "execution_count": null,
   "metadata": {},
   "outputs": [],
   "source": [
    "import random, soup, time, json, requests, os\n",
    "from common import StartDaemonThread,DotDict,b64decode,b64encode"
   ]
  },
  {
   "cell_type": "code",
   "execution_count": null,
   "metadata": {},
   "outputs": [],
   "source": [
    "host: str = 'localhost'\n",
    "port: int = 8188\n",
    "\n",
    "import socket\n",
    "def command(req):\n",
    "    sock = socket.socket(socket.AF_INET, socket.SOCK_STREAM)\n",
    "    resp = b''\n",
    "    try:\n",
    "        sock.connect((host, int(port)))\n",
    "        sock.sendall(req.encode('utf-8'))\n",
    "        while True:\n",
    "            data = sock.recv(4096)\n",
    "            if not data:\n",
    "                break\n",
    "            else:\n",
    "                resp += data\n",
    "    except socket.error:\n",
    "        pass\n",
    "    else:\n",
    "        resp = resp.decode('utf-8')\n",
    "        if not resp:\n",
    "            print('无法连接 QQBot-Term 服务器')\n",
    "        elif not resp.strip():\n",
    "            print('QQBot 命令格式错误')\n",
    "        else:\n",
    "            print(resp.strip())\n",
    "            return resp.strip()\n",
    "    finally:\n",
    "        sock.close()"
   ]
  },
  {
   "cell_type": "code",
   "execution_count": null,
   "metadata": {},
   "outputs": [],
   "source": [
    "qq = 2907237958\n",
    "verifyKey = 1064393873\n",
    "host: str = 'localhost'\n",
    "port: int = 8080\n",
    "session = None\n",
    "\n",
    "from miraiapi import MiraiApi\n",
    "bot = MiraiApi(qq, verifyKey, host, port, session)"
   ]
  },
  {
   "cell_type": "code",
   "execution_count": null,
   "metadata": {},
   "outputs": [],
   "source": [
    "bot.SendMessage('friend',1064393873,soup.Voice(path=\"C:/Users/10643/Music/家族の风景 - ハナレグミ.mp3\"))"
   ]
  },
  {
   "cell_type": "code",
   "execution_count": null,
   "metadata": {
    "scrolled": true
   },
   "outputs": [],
   "source": [
    "rep = command(r\"\"\"\n",
    "restart\n",
    "\"\"\")"
   ]
  },
  {
   "cell_type": "code",
   "execution_count": null,
   "metadata": {},
   "outputs": [],
   "source": [
    "rep = command(r\"\"\"\n",
    "plug chatgpt\n",
    "\"\"\")"
   ]
  },
  {
   "cell_type": "code",
   "execution_count": null,
   "metadata": {},
   "outputs": [],
   "source": [
    "rep = command(r\"\"\"\n",
    "bot.plugins['pixiv'].day_r18_ranking(bot,)\n",
    "\"\"\")"
   ]
  },
  {
   "cell_type": "code",
   "execution_count": null,
   "metadata": {},
   "outputs": [],
   "source": [
    "rep = command(r\"\"\"\n",
    "bot.plugins['pixiv'].illust_follow(bot,'2023-04-26'send)\n",
    "\"\"\")"
   ]
  },
  {
   "cell_type": "code",
   "execution_count": null,
   "metadata": {},
   "outputs": [],
   "source": [
    "rep = command(r\"\"\"\n",
    "bot.MessageAnalyst(bot.MessageId(960745325,-1)[1])\n",
    "\"\"\")"
   ]
  },
  {
   "cell_type": "code",
   "execution_count": null,
   "metadata": {},
   "outputs": [],
   "source": [
    "rep = command(r\"\"\"\n",
    "bot.SendMessage('group',778445670,{})\n",
    "\"\"\")"
   ]
  },
  {
   "cell_type": "code",
   "execution_count": null,
   "metadata": {
    "scrolled": false
   },
   "outputs": [],
   "source": [
    "rep = command(r\"\"\"\n",
    "__import__('os').popen('taskkill /f /im java.exe').read()\n",
    "\"\"\")"
   ]
  },
  {
   "cell_type": "code",
   "execution_count": null,
   "metadata": {},
   "outputs": [],
   "source": [
    "rep = command(r\"\"\"\n",
    "bot.pixiv.access_token\n",
    "\"\"\")"
   ]
  },
  {
   "cell_type": "code",
   "execution_count": null,
   "metadata": {},
   "outputs": [],
   "source": [
    "rep = command(r\"\"\"\n",
    "bot.pixiv.illust_detail(106946327)\n",
    "\"\"\")\n",
    "eval(rep)"
   ]
  },
  {
   "cell_type": "code",
   "execution_count": null,
   "metadata": {},
   "outputs": [],
   "source": [
    "rep = command(r\"\"\"\n",
    "bot.pixiv.user_detail(1079073)\n",
    "\"\"\")\n",
    "illust = eval(rep)\n",
    "illust"
   ]
  },
  {
   "cell_type": "code",
   "execution_count": null,
   "metadata": {},
   "outputs": [],
   "source": [
    "rep = command(r\"\"\"\n",
    "bot.pixiv.illust_detail(106569335).illust\n",
    "\"\"\")\n",
    "illust = eval(rep)\n",
    "illust"
   ]
  },
  {
   "cell_type": "code",
   "execution_count": null,
   "metadata": {
    "scrolled": false
   },
   "outputs": [],
   "source": [
    "rep = command(r\"\"\"\n",
    "[frame.delay for frame in bot.pixiv.ugoira_metadata(106569335).ugoira_metadata.frames]\n",
    "\"\"\")\n",
    "delay = eval(rep)\n",
    "delay"
   ]
  },
  {
   "cell_type": "code",
   "execution_count": null,
   "metadata": {
    "scrolled": false
   },
   "outputs": [],
   "source": [
    "for g in bot.List('group')[1]:\n",
    "    bot.SendMessage(\n",
    "        'group',\n",
    "        g.id,\n",
    "        soup.Plain('''新增 chatgpt 模块说明\\n-=# chatgpt 模块 #=-\\nonQQMessage\\n    AI模块对话模块使用 @ 开头 或 @Bot''')\n",
    "    )\n",
    "    # time.sleep(random.randint(20,40))"
   ]
  },
  {
   "cell_type": "code",
   "execution_count": null,
   "metadata": {},
   "outputs": [],
   "source": [
    "for f in bot.List('friend')[1]:\n",
    "    bot.SendMessage(\n",
    "        'friend',\n",
    "        f.id,\n",
    "        soup.Plain('''新增 chatgpt 模块说明\\n-=# chatgpt 模块 #=-\\nonQQMessage\\n    AI模块对话模块使用 @ 开头 或 @Bot''')\n",
    "    )\n",
    "    time.sleep(random.randint(30,60))"
   ]
  },
  {
   "cell_type": "code",
   "execution_count": null,
   "metadata": {},
   "outputs": [],
   "source": [
    "illusts:list = DotDict(eval(rep))\n",
    "[[i.create_date, i.type] for i in illusts]"
   ]
  }
 ],
 "metadata": {
  "kernelspec": {
   "display_name": "Python 3 (ipykernel)",
   "language": "python",
   "name": "python3"
  },
  "language_info": {
   "codemirror_mode": {
    "name": "ipython",
    "version": 3
   },
   "file_extension": ".py",
   "mimetype": "text/x-python",
   "name": "python",
   "nbconvert_exporter": "python",
   "pygments_lexer": "ipython3",
   "version": "3.10.7"
  },
  "vscode": {
   "interpreter": {
    "hash": "21b8decb48dd3f3750d114ad4805a8afa0418a1c42adfa11e421c380f14aa1a0"
   }
  }
 },
 "nbformat": 4,
 "nbformat_minor": 2
}
